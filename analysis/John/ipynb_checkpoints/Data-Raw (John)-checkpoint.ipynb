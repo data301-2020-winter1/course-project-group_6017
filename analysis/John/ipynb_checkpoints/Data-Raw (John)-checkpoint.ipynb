{
 "cells": [
  {
   "cell_type": "code",
   "execution_count": 1,
   "metadata": {},
   "outputs": [
    {
     "name": "stdout",
     "output_type": "stream",
     "text": [
      "  Company Name                                           Location  \\\n",
      "0       SpaceX         LC-39A, Kennedy Space Center, Florida, USA   \n",
      "1        CASIC  Site 9401 (SLS-2), Jiuquan Satellite Launch Ce...   \n",
      "2       SpaceX                      Pad A, Boca Chica, Texas, USA   \n",
      "3    Roscosmos       Site 200/39, Baikonur Cosmodrome, Kazakhstan   \n",
      "4          ULA           SLC-41, Cape Canaveral AFS, Florida, USA   \n",
      "\n",
      "                                         Detail Status Rocket  Rocket  \\\n",
      "0  Falcon 9 Block 5 | Starlink V1 L9 & BlackSky  StatusActive   50.0    \n",
      "1           Long March 2D | Gaofen-9 04 & Q-SAT  StatusActive  29.75    \n",
      "2            Starship Prototype | 150 Meter Hop  StatusActive     NaN   \n",
      "3  Proton-M/Briz-M | Ekspress-80 & Ekspress-103  StatusActive   65.0    \n",
      "4                    Atlas V 541 | Perseverance  StatusActive  145.0    \n",
      "\n",
      "  Status Mission Country of Launch Companys Country of Origin  \\\n",
      "0        Success               USA                        USA   \n",
      "1        Success             China                      China   \n",
      "2        Success               USA                        USA   \n",
      "3        Success        Kazakhstan                     Russia   \n",
      "4        Success               USA                        USA   \n",
      "\n",
      "  Private or State Run                   DateTime  Year  Month  Day  \\\n",
      "0                    P  2020-08-07 05:12:00+00:00  2020      8    7   \n",
      "1                    S  2020-08-06 04:01:00+00:00  2020      8    6   \n",
      "2                    P  2020-08-04 23:57:00+00:00  2020      8    4   \n",
      "3                    S  2020-07-30 21:25:00+00:00  2020      7   30   \n",
      "4                    P  2020-07-30 11:50:00+00:00  2020      7   30   \n",
      "\n",
      "         Date   Time  \n",
      "0  07/08/2020  05:12  \n",
      "1  06/08/2020  04:01  \n",
      "2  04/08/2020  23:57  \n",
      "3  30/07/2020  21:25  \n",
      "4  30/07/2020  11:50  \n"
     ]
    }
   ],
   "source": [
    "import pandas as pd\n",
    "df = pd.read_csv ('C:/Users/John/Desktop/course-project-group_6017-main/data/raw/Global Space Launches.csv')\n",
    "print (df.head())"
   ]
  },
  {
   "cell_type": "code",
   "execution_count": null,
   "metadata": {},
   "outputs": [],
   "source": []
  }
 ],
 "metadata": {
  "kernelspec": {
   "display_name": "Python 3",
   "language": "python",
   "name": "python3"
  },
  "language_info": {
   "codemirror_mode": {
    "name": "ipython",
    "version": 3
   },
   "file_extension": ".py",
   "mimetype": "text/x-python",
   "name": "python",
   "nbconvert_exporter": "python",
   "pygments_lexer": "ipython3",
   "version": "3.8.6"
  }
 },
 "nbformat": 4,
 "nbformat_minor": 4
}
