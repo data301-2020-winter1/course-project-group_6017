{
 "cells": [
  {
   "cell_type": "markdown",
   "metadata": {},
   "source": [
    "Modified readme.md see John.Readme , Data.readme ,Data.raw.readme, Data.Processed.readme , Images.readme used\n",
    "--- to siginify a line break, \n",
    "used # for top level heading with ## to show a h2\n",
    "used Links ([MyMarkdownEditor](https://pandao.github.io/editor.md/en.html)) to show an image in Images as an example\n",
    "Used ordered lists to show completion\n",
    "Used *text* for italic text \n",
    "and ** text ** for bold text"
   ]
  },
  {
   "cell_type": "code",
   "execution_count": null,
   "metadata": {},
   "outputs": [],
   "source": []
  },
  {
   "cell_type": "code",
   "execution_count": null,
   "metadata": {},
   "outputs": [],
   "source": []
  }
 ],
 "metadata": {
  "kernelspec": {
   "display_name": "Python 3",
   "language": "python",
   "name": "python3"
  },
  "language_info": {
   "codemirror_mode": {
    "name": "ipython",
    "version": 3
   },
   "file_extension": ".py",
   "mimetype": "text/x-python",
   "name": "python",
   "nbconvert_exporter": "python",
   "pygments_lexer": "ipython3",
   "version": "3.8.6"
  }
 },
 "nbformat": 4,
 "nbformat_minor": 4
}
