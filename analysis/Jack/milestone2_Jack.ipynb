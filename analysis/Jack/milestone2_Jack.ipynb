{
 "cells": [
  {
   "cell_type": "markdown",
   "metadata": {},
   "source": [
    "# **MILESTONE 2**"
   ]
  },
  {
   "cell_type": "markdown",
   "metadata": {},
   "source": [
    "*Name:Jack Tran    \n",
    "Id:66281346*"
   ]
  },
  {
   "cell_type": "markdown",
   "metadata": {},
   "source": [
    "<img src=\"space.png\" width=\"2000px\">"
   ]
  },
  {
   "cell_type": "markdown",
   "metadata": {},
   "source": [
    "## Task 3. Method Chaining and Python Programs"
   ]
  },
  {
   "cell_type": "code",
   "execution_count": 45,
   "metadata": {},
   "outputs": [
    {
     "data": {
      "text/html": [
       "<div>\n",
       "<style scoped>\n",
       "    .dataframe tbody tr th:only-of-type {\n",
       "        vertical-align: middle;\n",
       "    }\n",
       "\n",
       "    .dataframe tbody tr th {\n",
       "        vertical-align: top;\n",
       "    }\n",
       "\n",
       "    .dataframe thead th {\n",
       "        text-align: right;\n",
       "    }\n",
       "</style>\n",
       "<table border=\"1\" class=\"dataframe\">\n",
       "  <thead>\n",
       "    <tr style=\"text-align: right;\">\n",
       "      <th></th>\n",
       "      <th>Company Name</th>\n",
       "      <th>Detail</th>\n",
       "      <th>Status Rocket</th>\n",
       "      <th>Cost in Millions</th>\n",
       "      <th>Status Mission</th>\n",
       "      <th>Country of Launch</th>\n",
       "      <th>Companys Country of Origin</th>\n",
       "      <th>Private or State Run</th>\n",
       "      <th>Year</th>\n",
       "      <th>Month</th>\n",
       "      <th>Day</th>\n",
       "      <th>Date</th>\n",
       "      <th>Time</th>\n",
       "      <th>Launch in Country of Company</th>\n",
       "    </tr>\n",
       "  </thead>\n",
       "  <tbody>\n",
       "    <tr>\n",
       "      <th>0</th>\n",
       "      <td>SpaceX</td>\n",
       "      <td>Falcon 9 Block 5 | Starlink V1 L9 &amp; BlackSky</td>\n",
       "      <td>StatusActive</td>\n",
       "      <td>50.0</td>\n",
       "      <td>Success</td>\n",
       "      <td>USA</td>\n",
       "      <td>USA</td>\n",
       "      <td>P</td>\n",
       "      <td>2020</td>\n",
       "      <td>8</td>\n",
       "      <td>7</td>\n",
       "      <td>07/08/2020</td>\n",
       "      <td>05:12</td>\n",
       "      <td>yes</td>\n",
       "    </tr>\n",
       "    <tr>\n",
       "      <th>1</th>\n",
       "      <td>CASIC</td>\n",
       "      <td>Long March 2D | Gaofen-9 04 &amp; Q-SAT</td>\n",
       "      <td>StatusActive</td>\n",
       "      <td>29.75</td>\n",
       "      <td>Success</td>\n",
       "      <td>China</td>\n",
       "      <td>China</td>\n",
       "      <td>S</td>\n",
       "      <td>2020</td>\n",
       "      <td>8</td>\n",
       "      <td>6</td>\n",
       "      <td>06/08/2020</td>\n",
       "      <td>04:01</td>\n",
       "      <td>yes</td>\n",
       "    </tr>\n",
       "    <tr>\n",
       "      <th>2</th>\n",
       "      <td>Roscosmos</td>\n",
       "      <td>Proton-M/Briz-M | Ekspress-80 &amp; Ekspress-103</td>\n",
       "      <td>StatusActive</td>\n",
       "      <td>65.0</td>\n",
       "      <td>Success</td>\n",
       "      <td>Kazakhstan</td>\n",
       "      <td>Russia</td>\n",
       "      <td>S</td>\n",
       "      <td>2020</td>\n",
       "      <td>7</td>\n",
       "      <td>30</td>\n",
       "      <td>30/07/2020</td>\n",
       "      <td>21:25</td>\n",
       "      <td>no</td>\n",
       "    </tr>\n",
       "    <tr>\n",
       "      <th>3</th>\n",
       "      <td>ULA</td>\n",
       "      <td>Atlas V 541 | Perseverance</td>\n",
       "      <td>StatusActive</td>\n",
       "      <td>145.0</td>\n",
       "      <td>Success</td>\n",
       "      <td>USA</td>\n",
       "      <td>USA</td>\n",
       "      <td>P</td>\n",
       "      <td>2020</td>\n",
       "      <td>7</td>\n",
       "      <td>30</td>\n",
       "      <td>30/07/2020</td>\n",
       "      <td>11:50</td>\n",
       "      <td>yes</td>\n",
       "    </tr>\n",
       "    <tr>\n",
       "      <th>4</th>\n",
       "      <td>CASIC</td>\n",
       "      <td>Long March 4B | Ziyuan-3 03, Apocalypse-10 &amp; N...</td>\n",
       "      <td>StatusActive</td>\n",
       "      <td>64.68</td>\n",
       "      <td>Success</td>\n",
       "      <td>China</td>\n",
       "      <td>China</td>\n",
       "      <td>S</td>\n",
       "      <td>2020</td>\n",
       "      <td>7</td>\n",
       "      <td>25</td>\n",
       "      <td>25/07/2020</td>\n",
       "      <td>03:13</td>\n",
       "      <td>yes</td>\n",
       "    </tr>\n",
       "    <tr>\n",
       "      <th>...</th>\n",
       "      <td>...</td>\n",
       "      <td>...</td>\n",
       "      <td>...</td>\n",
       "      <td>...</td>\n",
       "      <td>...</td>\n",
       "      <td>...</td>\n",
       "      <td>...</td>\n",
       "      <td>...</td>\n",
       "      <td>...</td>\n",
       "      <td>...</td>\n",
       "      <td>...</td>\n",
       "      <td>...</td>\n",
       "      <td>...</td>\n",
       "      <td>...</td>\n",
       "    </tr>\n",
       "    <tr>\n",
       "      <th>959</th>\n",
       "      <td>US Air Force</td>\n",
       "      <td>Titan IIIB | KH-8</td>\n",
       "      <td>StatusRetired</td>\n",
       "      <td>59.0</td>\n",
       "      <td>Success</td>\n",
       "      <td>USA</td>\n",
       "      <td>USA</td>\n",
       "      <td>S</td>\n",
       "      <td>1966</td>\n",
       "      <td>7</td>\n",
       "      <td>29</td>\n",
       "      <td>29/07/1966</td>\n",
       "      <td>18:43</td>\n",
       "      <td>yes</td>\n",
       "    </tr>\n",
       "    <tr>\n",
       "      <th>960</th>\n",
       "      <td>US Air Force</td>\n",
       "      <td>Titan IIIA | LES 2 &amp; LCS 1</td>\n",
       "      <td>StatusRetired</td>\n",
       "      <td>63.23</td>\n",
       "      <td>Success</td>\n",
       "      <td>USA</td>\n",
       "      <td>USA</td>\n",
       "      <td>S</td>\n",
       "      <td>1965</td>\n",
       "      <td>5</td>\n",
       "      <td>6</td>\n",
       "      <td>06/05/1965</td>\n",
       "      <td>15:00</td>\n",
       "      <td>yes</td>\n",
       "    </tr>\n",
       "    <tr>\n",
       "      <th>961</th>\n",
       "      <td>US Air Force</td>\n",
       "      <td>Titan IIIA | LES 1</td>\n",
       "      <td>StatusRetired</td>\n",
       "      <td>63.23</td>\n",
       "      <td>Success</td>\n",
       "      <td>USA</td>\n",
       "      <td>USA</td>\n",
       "      <td>S</td>\n",
       "      <td>1965</td>\n",
       "      <td>2</td>\n",
       "      <td>11</td>\n",
       "      <td>11/02/1965</td>\n",
       "      <td>15:19</td>\n",
       "      <td>yes</td>\n",
       "    </tr>\n",
       "    <tr>\n",
       "      <th>962</th>\n",
       "      <td>US Air Force</td>\n",
       "      <td>Titan IIIA | Transtage 2</td>\n",
       "      <td>StatusRetired</td>\n",
       "      <td>63.23</td>\n",
       "      <td>Success</td>\n",
       "      <td>USA</td>\n",
       "      <td>USA</td>\n",
       "      <td>S</td>\n",
       "      <td>1964</td>\n",
       "      <td>12</td>\n",
       "      <td>10</td>\n",
       "      <td>10/12/1964</td>\n",
       "      <td>16:52</td>\n",
       "      <td>yes</td>\n",
       "    </tr>\n",
       "    <tr>\n",
       "      <th>963</th>\n",
       "      <td>US Air Force</td>\n",
       "      <td>Titan IIIA | Transtage 1</td>\n",
       "      <td>StatusRetired</td>\n",
       "      <td>63.23</td>\n",
       "      <td>Failure</td>\n",
       "      <td>USA</td>\n",
       "      <td>USA</td>\n",
       "      <td>S</td>\n",
       "      <td>1964</td>\n",
       "      <td>9</td>\n",
       "      <td>1</td>\n",
       "      <td>01/09/1964</td>\n",
       "      <td>15:00</td>\n",
       "      <td>yes</td>\n",
       "    </tr>\n",
       "  </tbody>\n",
       "</table>\n",
       "<p>964 rows × 14 columns</p>\n",
       "</div>"
      ],
      "text/plain": [
       "     Company Name                                             Detail  \\\n",
       "0          SpaceX       Falcon 9 Block 5 | Starlink V1 L9 & BlackSky   \n",
       "1           CASIC                Long March 2D | Gaofen-9 04 & Q-SAT   \n",
       "2       Roscosmos       Proton-M/Briz-M | Ekspress-80 & Ekspress-103   \n",
       "3             ULA                         Atlas V 541 | Perseverance   \n",
       "4           CASIC  Long March 4B | Ziyuan-3 03, Apocalypse-10 & N...   \n",
       "..            ...                                                ...   \n",
       "959  US Air Force                                  Titan IIIB | KH-8   \n",
       "960  US Air Force                         Titan IIIA | LES 2 & LCS 1   \n",
       "961  US Air Force                                 Titan IIIA | LES 1   \n",
       "962  US Air Force                           Titan IIIA | Transtage 2   \n",
       "963  US Air Force                           Titan IIIA | Transtage 1   \n",
       "\n",
       "     Status Rocket Cost in Millions Status Mission Country of Launch  \\\n",
       "0     StatusActive            50.0         Success               USA   \n",
       "1     StatusActive           29.75         Success             China   \n",
       "2     StatusActive            65.0         Success        Kazakhstan   \n",
       "3     StatusActive           145.0         Success               USA   \n",
       "4     StatusActive           64.68         Success             China   \n",
       "..             ...              ...            ...               ...   \n",
       "959  StatusRetired            59.0         Success               USA   \n",
       "960  StatusRetired           63.23         Success               USA   \n",
       "961  StatusRetired           63.23         Success               USA   \n",
       "962  StatusRetired           63.23         Success               USA   \n",
       "963  StatusRetired           63.23         Failure               USA   \n",
       "\n",
       "    Companys Country of Origin Private or State Run  Year  Month  Day  \\\n",
       "0                          USA                    P  2020      8    7   \n",
       "1                        China                    S  2020      8    6   \n",
       "2                       Russia                    S  2020      7   30   \n",
       "3                          USA                    P  2020      7   30   \n",
       "4                        China                    S  2020      7   25   \n",
       "..                         ...                  ...   ...    ...  ...   \n",
       "959                        USA                    S  1966      7   29   \n",
       "960                        USA                    S  1965      5    6   \n",
       "961                        USA                    S  1965      2   11   \n",
       "962                        USA                    S  1964     12   10   \n",
       "963                        USA                    S  1964      9    1   \n",
       "\n",
       "           Date   Time Launch in Country of Company  \n",
       "0    07/08/2020  05:12                          yes  \n",
       "1    06/08/2020  04:01                          yes  \n",
       "2    30/07/2020  21:25                           no  \n",
       "3    30/07/2020  11:50                          yes  \n",
       "4    25/07/2020  03:13                          yes  \n",
       "..          ...    ...                          ...  \n",
       "959  29/07/1966  18:43                          yes  \n",
       "960  06/05/1965  15:00                          yes  \n",
       "961  11/02/1965  15:19                          yes  \n",
       "962  10/12/1964  16:52                          yes  \n",
       "963  01/09/1964  15:00                          yes  \n",
       "\n",
       "[964 rows x 14 columns]"
      ]
     },
     "execution_count": 45,
     "metadata": {},
     "output_type": "execute_result"
    }
   ],
   "source": [
    "import numpy as np\n",
    "import pandas as pd\n",
    "import matplotlib.pylab as plt\n",
    "import seaborn as sns\n",
    "\n",
    "df = (pd.read_csv(\"Global Space Launches.csv\").dropna()\n",
    "          .reset_index(drop=True)  \n",
    "          .rename(columns={\" Rocket\": \"Cost in Millions\"})\n",
    "          .assign(Launch_origin=lambda x: np.where(x['Country of Launch']==x['Companys Country of Origin'], \"yes\", \"no\"))\n",
    "          .rename(columns={\"Launch_origin\": \"Launch in Country of Company\"})\n",
    "          .drop(['DateTime','Location'], axis=1)\n",
    "    )\n",
    "df"
   ]
  },
  {
   "cell_type": "code",
   "execution_count": 2,
   "metadata": {},
   "outputs": [
    {
     "data": {
      "text/html": [
       "<div>\n",
       "<style scoped>\n",
       "    .dataframe tbody tr th:only-of-type {\n",
       "        vertical-align: middle;\n",
       "    }\n",
       "\n",
       "    .dataframe tbody tr th {\n",
       "        vertical-align: top;\n",
       "    }\n",
       "\n",
       "    .dataframe thead th {\n",
       "        text-align: right;\n",
       "    }\n",
       "</style>\n",
       "<table border=\"1\" class=\"dataframe\">\n",
       "  <thead>\n",
       "    <tr style=\"text-align: right;\">\n",
       "      <th></th>\n",
       "      <th>Company Name</th>\n",
       "      <th>Detail</th>\n",
       "      <th>Status Rocket</th>\n",
       "      <th>Cost in Millions</th>\n",
       "      <th>Status Mission</th>\n",
       "      <th>Country of Launch</th>\n",
       "      <th>Companys Country of Origin</th>\n",
       "      <th>Private or State Run</th>\n",
       "      <th>Year</th>\n",
       "      <th>Month</th>\n",
       "      <th>Day</th>\n",
       "      <th>Date</th>\n",
       "      <th>Time</th>\n",
       "      <th>Launch in Country of Company</th>\n",
       "    </tr>\n",
       "  </thead>\n",
       "  <tbody>\n",
       "    <tr>\n",
       "      <th>0</th>\n",
       "      <td>SpaceX</td>\n",
       "      <td>Falcon 9 Block 5 | Starlink V1 L9 &amp; BlackSky</td>\n",
       "      <td>StatusActive</td>\n",
       "      <td>50.0</td>\n",
       "      <td>Success</td>\n",
       "      <td>USA</td>\n",
       "      <td>USA</td>\n",
       "      <td>P</td>\n",
       "      <td>2020</td>\n",
       "      <td>8</td>\n",
       "      <td>7</td>\n",
       "      <td>07/08/2020</td>\n",
       "      <td>05:12</td>\n",
       "      <td>1</td>\n",
       "    </tr>\n",
       "    <tr>\n",
       "      <th>1</th>\n",
       "      <td>CASIC</td>\n",
       "      <td>Long March 2D | Gaofen-9 04 &amp; Q-SAT</td>\n",
       "      <td>StatusActive</td>\n",
       "      <td>29.75</td>\n",
       "      <td>Success</td>\n",
       "      <td>China</td>\n",
       "      <td>China</td>\n",
       "      <td>S</td>\n",
       "      <td>2020</td>\n",
       "      <td>8</td>\n",
       "      <td>6</td>\n",
       "      <td>06/08/2020</td>\n",
       "      <td>04:01</td>\n",
       "      <td>1</td>\n",
       "    </tr>\n",
       "    <tr>\n",
       "      <th>2</th>\n",
       "      <td>Roscosmos</td>\n",
       "      <td>Proton-M/Briz-M | Ekspress-80 &amp; Ekspress-103</td>\n",
       "      <td>StatusActive</td>\n",
       "      <td>65.0</td>\n",
       "      <td>Success</td>\n",
       "      <td>Kazakhstan</td>\n",
       "      <td>Russia</td>\n",
       "      <td>S</td>\n",
       "      <td>2020</td>\n",
       "      <td>7</td>\n",
       "      <td>30</td>\n",
       "      <td>30/07/2020</td>\n",
       "      <td>21:25</td>\n",
       "      <td>0</td>\n",
       "    </tr>\n",
       "    <tr>\n",
       "      <th>3</th>\n",
       "      <td>ULA</td>\n",
       "      <td>Atlas V 541 | Perseverance</td>\n",
       "      <td>StatusActive</td>\n",
       "      <td>145.0</td>\n",
       "      <td>Success</td>\n",
       "      <td>USA</td>\n",
       "      <td>USA</td>\n",
       "      <td>P</td>\n",
       "      <td>2020</td>\n",
       "      <td>7</td>\n",
       "      <td>30</td>\n",
       "      <td>30/07/2020</td>\n",
       "      <td>11:50</td>\n",
       "      <td>1</td>\n",
       "    </tr>\n",
       "    <tr>\n",
       "      <th>4</th>\n",
       "      <td>CASIC</td>\n",
       "      <td>Long March 4B | Ziyuan-3 03, Apocalypse-10 &amp; N...</td>\n",
       "      <td>StatusActive</td>\n",
       "      <td>64.68</td>\n",
       "      <td>Success</td>\n",
       "      <td>China</td>\n",
       "      <td>China</td>\n",
       "      <td>S</td>\n",
       "      <td>2020</td>\n",
       "      <td>7</td>\n",
       "      <td>25</td>\n",
       "      <td>25/07/2020</td>\n",
       "      <td>03:13</td>\n",
       "      <td>1</td>\n",
       "    </tr>\n",
       "    <tr>\n",
       "      <th>...</th>\n",
       "      <td>...</td>\n",
       "      <td>...</td>\n",
       "      <td>...</td>\n",
       "      <td>...</td>\n",
       "      <td>...</td>\n",
       "      <td>...</td>\n",
       "      <td>...</td>\n",
       "      <td>...</td>\n",
       "      <td>...</td>\n",
       "      <td>...</td>\n",
       "      <td>...</td>\n",
       "      <td>...</td>\n",
       "      <td>...</td>\n",
       "      <td>...</td>\n",
       "    </tr>\n",
       "    <tr>\n",
       "      <th>959</th>\n",
       "      <td>US Air Force</td>\n",
       "      <td>Titan IIIB | KH-8</td>\n",
       "      <td>StatusRetired</td>\n",
       "      <td>59.0</td>\n",
       "      <td>Success</td>\n",
       "      <td>USA</td>\n",
       "      <td>USA</td>\n",
       "      <td>S</td>\n",
       "      <td>1966</td>\n",
       "      <td>7</td>\n",
       "      <td>29</td>\n",
       "      <td>29/07/1966</td>\n",
       "      <td>18:43</td>\n",
       "      <td>1</td>\n",
       "    </tr>\n",
       "    <tr>\n",
       "      <th>960</th>\n",
       "      <td>US Air Force</td>\n",
       "      <td>Titan IIIA | LES 2 &amp; LCS 1</td>\n",
       "      <td>StatusRetired</td>\n",
       "      <td>63.23</td>\n",
       "      <td>Success</td>\n",
       "      <td>USA</td>\n",
       "      <td>USA</td>\n",
       "      <td>S</td>\n",
       "      <td>1965</td>\n",
       "      <td>5</td>\n",
       "      <td>6</td>\n",
       "      <td>06/05/1965</td>\n",
       "      <td>15:00</td>\n",
       "      <td>1</td>\n",
       "    </tr>\n",
       "    <tr>\n",
       "      <th>961</th>\n",
       "      <td>US Air Force</td>\n",
       "      <td>Titan IIIA | LES 1</td>\n",
       "      <td>StatusRetired</td>\n",
       "      <td>63.23</td>\n",
       "      <td>Success</td>\n",
       "      <td>USA</td>\n",
       "      <td>USA</td>\n",
       "      <td>S</td>\n",
       "      <td>1965</td>\n",
       "      <td>2</td>\n",
       "      <td>11</td>\n",
       "      <td>11/02/1965</td>\n",
       "      <td>15:19</td>\n",
       "      <td>1</td>\n",
       "    </tr>\n",
       "    <tr>\n",
       "      <th>962</th>\n",
       "      <td>US Air Force</td>\n",
       "      <td>Titan IIIA | Transtage 2</td>\n",
       "      <td>StatusRetired</td>\n",
       "      <td>63.23</td>\n",
       "      <td>Success</td>\n",
       "      <td>USA</td>\n",
       "      <td>USA</td>\n",
       "      <td>S</td>\n",
       "      <td>1964</td>\n",
       "      <td>12</td>\n",
       "      <td>10</td>\n",
       "      <td>10/12/1964</td>\n",
       "      <td>16:52</td>\n",
       "      <td>1</td>\n",
       "    </tr>\n",
       "    <tr>\n",
       "      <th>963</th>\n",
       "      <td>US Air Force</td>\n",
       "      <td>Titan IIIA | Transtage 1</td>\n",
       "      <td>StatusRetired</td>\n",
       "      <td>63.23</td>\n",
       "      <td>Failure</td>\n",
       "      <td>USA</td>\n",
       "      <td>USA</td>\n",
       "      <td>S</td>\n",
       "      <td>1964</td>\n",
       "      <td>9</td>\n",
       "      <td>1</td>\n",
       "      <td>01/09/1964</td>\n",
       "      <td>15:00</td>\n",
       "      <td>1</td>\n",
       "    </tr>\n",
       "  </tbody>\n",
       "</table>\n",
       "<p>964 rows × 14 columns</p>\n",
       "</div>"
      ],
      "text/plain": [
       "     Company Name                                             Detail  \\\n",
       "0          SpaceX       Falcon 9 Block 5 | Starlink V1 L9 & BlackSky   \n",
       "1           CASIC                Long March 2D | Gaofen-9 04 & Q-SAT   \n",
       "2       Roscosmos       Proton-M/Briz-M | Ekspress-80 & Ekspress-103   \n",
       "3             ULA                         Atlas V 541 | Perseverance   \n",
       "4           CASIC  Long March 4B | Ziyuan-3 03, Apocalypse-10 & N...   \n",
       "..            ...                                                ...   \n",
       "959  US Air Force                                  Titan IIIB | KH-8   \n",
       "960  US Air Force                         Titan IIIA | LES 2 & LCS 1   \n",
       "961  US Air Force                                 Titan IIIA | LES 1   \n",
       "962  US Air Force                           Titan IIIA | Transtage 2   \n",
       "963  US Air Force                           Titan IIIA | Transtage 1   \n",
       "\n",
       "     Status Rocket Cost in Millions Status Mission Country of Launch  \\\n",
       "0     StatusActive            50.0         Success               USA   \n",
       "1     StatusActive           29.75         Success             China   \n",
       "2     StatusActive            65.0         Success        Kazakhstan   \n",
       "3     StatusActive           145.0         Success               USA   \n",
       "4     StatusActive           64.68         Success             China   \n",
       "..             ...              ...            ...               ...   \n",
       "959  StatusRetired            59.0         Success               USA   \n",
       "960  StatusRetired           63.23         Success               USA   \n",
       "961  StatusRetired           63.23         Success               USA   \n",
       "962  StatusRetired           63.23         Success               USA   \n",
       "963  StatusRetired           63.23         Failure               USA   \n",
       "\n",
       "    Companys Country of Origin Private or State Run  Year  Month  Day  \\\n",
       "0                          USA                    P  2020      8    7   \n",
       "1                        China                    S  2020      8    6   \n",
       "2                       Russia                    S  2020      7   30   \n",
       "3                          USA                    P  2020      7   30   \n",
       "4                        China                    S  2020      7   25   \n",
       "..                         ...                  ...   ...    ...  ...   \n",
       "959                        USA                    S  1966      7   29   \n",
       "960                        USA                    S  1965      5    6   \n",
       "961                        USA                    S  1965      2   11   \n",
       "962                        USA                    S  1964     12   10   \n",
       "963                        USA                    S  1964      9    1   \n",
       "\n",
       "           Date   Time  Launch in Country of Company  \n",
       "0    07/08/2020  05:12                             1  \n",
       "1    06/08/2020  04:01                             1  \n",
       "2    30/07/2020  21:25                             0  \n",
       "3    30/07/2020  11:50                             1  \n",
       "4    25/07/2020  03:13                             1  \n",
       "..          ...    ...                           ...  \n",
       "959  29/07/1966  18:43                             1  \n",
       "960  06/05/1965  15:00                             1  \n",
       "961  11/02/1965  15:19                             1  \n",
       "962  10/12/1964  16:52                             1  \n",
       "963  01/09/1964  15:00                             1  \n",
       "\n",
       "[964 rows x 14 columns]"
      ]
     },
     "execution_count": 2,
     "metadata": {},
     "output_type": "execute_result"
    }
   ],
   "source": [
    "from scripts import project_functions \n",
    "df = project_functions.load_and_process(\"Global Space Launches.csv\")\n",
    "df\n"
   ]
  },
  {
   "cell_type": "markdown",
   "metadata": {},
   "source": [
    "## Task 4. Conduct an Exploratory Data Analysis (EDA) on your dataset"
   ]
  },
  {
   "cell_type": "code",
   "execution_count": 5,
   "metadata": {},
   "outputs": [
    {
     "data": {
      "text/html": [
       "<div>\n",
       "<style scoped>\n",
       "    .dataframe tbody tr th:only-of-type {\n",
       "        vertical-align: middle;\n",
       "    }\n",
       "\n",
       "    .dataframe tbody tr th {\n",
       "        vertical-align: top;\n",
       "    }\n",
       "\n",
       "    .dataframe thead th {\n",
       "        text-align: right;\n",
       "    }\n",
       "</style>\n",
       "<table border=\"1\" class=\"dataframe\">\n",
       "  <thead>\n",
       "    <tr style=\"text-align: right;\">\n",
       "      <th></th>\n",
       "      <th>count</th>\n",
       "      <th>mean</th>\n",
       "      <th>std</th>\n",
       "      <th>min</th>\n",
       "      <th>25%</th>\n",
       "      <th>50%</th>\n",
       "      <th>75%</th>\n",
       "      <th>max</th>\n",
       "    </tr>\n",
       "  </thead>\n",
       "  <tbody>\n",
       "    <tr>\n",
       "      <th>Year</th>\n",
       "      <td>964.0</td>\n",
       "      <td>2007.484440</td>\n",
       "      <td>12.532855</td>\n",
       "      <td>1964.0</td>\n",
       "      <td>2001.75</td>\n",
       "      <td>2011.0</td>\n",
       "      <td>2017.0</td>\n",
       "      <td>2020.0</td>\n",
       "    </tr>\n",
       "    <tr>\n",
       "      <th>Month</th>\n",
       "      <td>964.0</td>\n",
       "      <td>6.731328</td>\n",
       "      <td>3.379649</td>\n",
       "      <td>1.0</td>\n",
       "      <td>4.00</td>\n",
       "      <td>7.0</td>\n",
       "      <td>10.0</td>\n",
       "      <td>12.0</td>\n",
       "    </tr>\n",
       "    <tr>\n",
       "      <th>Day</th>\n",
       "      <td>964.0</td>\n",
       "      <td>15.685685</td>\n",
       "      <td>8.712303</td>\n",
       "      <td>1.0</td>\n",
       "      <td>8.00</td>\n",
       "      <td>15.0</td>\n",
       "      <td>23.0</td>\n",
       "      <td>31.0</td>\n",
       "    </tr>\n",
       "    <tr>\n",
       "      <th>Launch in Country of Company</th>\n",
       "      <td>964.0</td>\n",
       "      <td>0.826763</td>\n",
       "      <td>0.378648</td>\n",
       "      <td>0.0</td>\n",
       "      <td>1.00</td>\n",
       "      <td>1.0</td>\n",
       "      <td>1.0</td>\n",
       "      <td>1.0</td>\n",
       "    </tr>\n",
       "  </tbody>\n",
       "</table>\n",
       "</div>"
      ],
      "text/plain": [
       "                              count         mean        std     min      25%  \\\n",
       "Year                          964.0  2007.484440  12.532855  1964.0  2001.75   \n",
       "Month                         964.0     6.731328   3.379649     1.0     4.00   \n",
       "Day                           964.0    15.685685   8.712303     1.0     8.00   \n",
       "Launch in Country of Company  964.0     0.826763   0.378648     0.0     1.00   \n",
       "\n",
       "                                 50%     75%     max  \n",
       "Year                          2011.0  2017.0  2020.0  \n",
       "Month                            7.0    10.0    12.0  \n",
       "Day                             15.0    23.0    31.0  \n",
       "Launch in Country of Company     1.0     1.0     1.0  "
      ]
     },
     "execution_count": 5,
     "metadata": {},
     "output_type": "execute_result"
    }
   ],
   "source": [
    "df.describe().T"
   ]
  },
  {
   "cell_type": "code",
   "execution_count": 6,
   "metadata": {},
   "outputs": [
    {
     "data": {
      "image/png": "[encoded data removed]",
      "text/plain": [
       "<Figure size 720x720 with 4 Axes>"
      ]
     },
     "metadata": {
      "needs_background": "light"
     },
     "output_type": "display_data"
    }
   ],
   "source": [
    "hist = df.hist(bins=10,figsize =(10,10))"
   ]
  },
  {
   "cell_type": "code",
   "execution_count": 8,
   "metadata": {},
   "outputs": [],
   "source": [
    "df_cat = df.select_dtypes(include = 'object').copy()"
   ]
  },
  {
   "cell_type": "code",
   "execution_count": 39,
   "metadata": {},
   "outputs": [
    {
     "data": {
      "text/plain": [
       "<AxesSubplot:xlabel='Status Mission', ylabel='count'>"
      ]
     },
     "execution_count": 39,
     "metadata": {},
     "output_type": "execute_result"
    },
    {
     "data": {
      "image/png": "[encoded data removed]",
      "text/plain": [
       "<Figure size 432x288 with 1 Axes>"
      ]
     },
     "metadata": {
      "needs_background": "light"
     },
     "output_type": "display_data"
    }
   ],
   "source": [
    "sns.countplot(data = df_cat, x = 'Status Mission')"
   ]
  },
  {
   "cell_type": "code",
   "execution_count": 14,
   "metadata": {},
   "outputs": [
    {
     "data": {
      "text/plain": [
       "<AxesSubplot:xlabel='Status Rocket', ylabel='count'>"
      ]
     },
     "execution_count": 14,
     "metadata": {},
     "output_type": "execute_result"
    },
    {
     "data": {
      "image/png": "[encoded data removed]",
      "text/plain": [
       "<Figure size 432x288 with 1 Axes>"
      ]
     },
     "metadata": {
      "needs_background": "light"
     },
     "output_type": "display_data"
    }
   ],
   "source": [
    "sns.countplot(data = df_cat, x = 'Status Rocket')"
   ]
  },
  {
   "cell_type": "code",
   "execution_count": 27,
   "metadata": {},
   "outputs": [
    {
     "data": {
      "text/plain": [
       "<AxesSubplot:xlabel='Companys Country of Origin', ylabel='count'>"
      ]
     },
     "execution_count": 27,
     "metadata": {},
     "output_type": "execute_result"
    },
    {
     "data": {
      "image/png": "[encoded data removed]",
      "text/plain": [
       "<Figure size 1440x360 with 1 Axes>"
      ]
     },
     "metadata": {
      "needs_background": "light"
     },
     "output_type": "display_data"
    }
   ],
   "source": [
    "plt.figure(figsize=(20,5))\n",
    "sns.countplot(data = df_cat, x = 'Companys Country of Origin')"
   ]
  },
  {
   "cell_type": "code",
   "execution_count": 24,
   "metadata": {},
   "outputs": [
    {
     "data": {
      "image/png": "[encoded data removed]",
      "text/plain": [
       "<Figure size 1440x360 with 1 Axes>"
      ]
     },
     "metadata": {
      "needs_background": "light"
     },
     "output_type": "display_data"
    }
   ],
   "source": [
    "plt.figure(figsize=(20,5))\n",
    "dv = sns.countplot(data = df_cat, x = 'Private or State Run')"
   ]
  },
  {
   "cell_type": "code",
   "execution_count": 40,
   "metadata": {},
   "outputs": [
    {
     "data": {
      "image/png": "[encoded data removed]",
      "text/plain": [
       "<Figure size 720x1440 with 1 Axes>"
      ]
     },
     "metadata": {
      "needs_background": "light"
     },
     "output_type": "display_data"
    }
   ],
   "source": [
    "plt.figure(figsize=(10,20))\n",
    "dv = sns.countplot(data = df_cat, y='Cost in Millions',hue = 'Country of Launch')"
   ]
  },
  {
   "cell_type": "code",
   "execution_count": 55,
   "metadata": {},
   "outputs": [
    {
     "data": {
      "text/plain": [
       "<AxesSubplot:xlabel='Year', ylabel='count'>"
      ]
     },
     "execution_count": 55,
     "metadata": {},
     "output_type": "execute_result"
    },
    {
     "data": {
      "image/png": "[encoded data removed]",
      "text/plain": [
       "<Figure size 2160x1080 with 1 Axes>"
      ]
     },
     "metadata": {
      "needs_background": "light"
     },
     "output_type": "display_data"
    }
   ],
   "source": [
    "plt.figure(figsize=(30,15))\n",
    "sns.countplot(data = df, x='Year', hue = 'Private or State Run')"
   ]
  },
  {
   "cell_type": "markdown",
   "metadata": {},
   "source": [
    "**Research Question:**\n",
    "- Which countries are pushing for privatization of Space Exploration?\n",
    "- How has the privatization of Space Exploration affected success rate and cost?"
   ]
  },
  {
   "cell_type": "markdown",
   "metadata": {},
   "source": [
    "# Task 5. Conduct your analysis to help answer your research question(s)"
   ]
  },
  {
   "cell_type": "code",
   "execution_count": null,
   "metadata": {},
   "outputs": [],
   "source": []
  }
 ],
 "metadata": {
  "kernelspec": {
   "display_name": "Python 3",
   "language": "python",
   "name": "python3"
  },
  "language_info": {
   "codemirror_mode": {
    "name": "ipython",
    "version": 3
   },
   "file_extension": ".py",
   "mimetype": "text/x-python",
   "name": "python",
   "nbconvert_exporter": "python",
   "pygments_lexer": "ipython3",
   "version": "3.8.3"
  }
 },
 "nbformat": 4,
 "nbformat_minor": 4
}
