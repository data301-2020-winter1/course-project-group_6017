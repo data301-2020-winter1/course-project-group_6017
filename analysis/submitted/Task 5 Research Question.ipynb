{
 "cells": [
  {
   "cell_type": "markdown",
   "metadata": {},
   "source": [
    "# **Task #5 Research Question Analysis**\n",
    "## Our question/s\n",
    "\n",
    "    Which countries are pushing for privatization of Space Exploration?\n",
    "    How has the privatization of Space Exploration affected success rate and access to space?\n",
    "# Space Launches by Country and Year"
   ]
  },
  {
   "cell_type": "markdown",
   "metadata": {},
   "source": [
    ">**fig_dims = (10, 20)**\n",
    ">\n",
    ">**fig, ax = plt.subplots(figsize=fig_dims)**\n",
    ">\n",
    ">**sns.boxplot(x=\"Year\", y=\"Country of Launch\", data=df).set_title('Space launches by Country and Year')****\n",
    ">\n",
    ">**sns.swarmplot(x=\"Year\", y=\"Country of Launch\", data=df, size=1, color=\".1\")**\n",
    ">\n",
    ">**plt.show()**"
   ]
  },
  {
   "cell_type": "markdown",
   "metadata": {},
   "source": [
    "<img src=\"Img1.png\" width=\"2000px\">\n",
    "## Question Analysis\n",
    "As shown by the boxplot, the USA and Soviet Union were the countries that had the most Space launches from the 1960s to 2000s. As private space launches become more common, Russia lowered the amount of launches while the USA was still launching rockets steadily. China has started to increase the amount of space launches after 2010 to compete with the USA.\n",
    "The boxplot also shows how more countrys have access to space now than ever before, the majority of launches across countrys are closer to today. This data also supports the graph that shows that more recent Launches are Company and not state run.\n",
    "\n",
    "# Space Launches by Country and Year\n",
    ">**df = project_functions.load_and_process(\"Global Space Launches.csv\")**\n",
    ">\n",
    ">**sns.set_theme(style=\"white\",font_scale=1.3)**\n",
    ">\n",
    ">**fig, ax=plt.subplots(figsize=(30,8))**\n",
    ">\n",
    ">**ax = sns.countplot(x='Year', hue=\"Private or State Run\",  data=df)**\n",
    ">\n",
    ">**plt.title('Rocket launches Private or State run over time')**\n",
    ">\n",
    ">**sns.despine()**\n",
    ">\n",
    ">**plt.show()**\n",
    "\n",
    "<img src=\"Img2.png\" width=\"2000px\">\n",
    "## Question Analysis\n",
    "As shown by the chart Privatization of space started 1988 but was not near the number of launches that State run organization had. There is a correlation from the rise of private launches and the fall of State run. This is to suggest that the rise of private launches are meeting some demand that until very recently State run organizations could not meet. This also ties back to our prior graph showing home more countrys now than ever are able to launch a rocket. This will make the access of space easier for more Countrys and Companys.\n",
    "\n",
    "\n",
    "# Space Launches by Country and Year\n",
    ">**df = project_functions.load_and_process(\"Global Space Launches.csv\")**\n",
    ">\n",
    ">**sns.set_theme(style=\"white\",font_scale=1.3)**\n",
    ">\n",
    ">**fig, ax=plt.subplots(figsize=(30,8))**\n",
    ">\n",
    ">**sns.catplot(x=\"Year\",y=\"Company Name\",kind=\"violin\",  data=df)**\n",
    ">\n",
    ">**plt.show()**\n",
    "\n",
    "<img src=\"Img3.png\" width=\"2000px\">\n",
    "## Conclusion\n",
    "Looking at the basic Launch data we can gather a lot about how Launches are conducted and who is the entity responsible for launching them. We know that a majority of the launches are from Country's, but by looking at our violin plot measuring year to Company we see that around 2010 is when Private entity's started their journey into space.  Our Violin plot also shows that most Company's launch more than 1 rocket and most that have launched more than 1 still launch in 2020. This correlates with our failure graph which shows that as time goes on there is more success , this is in part caused by Private Launches.Our plotted data also shows that most Country's launch rockets from their own land, this also follows that most Private run launches are done on their home land. We also see that recently State run Launches are trying to keep up with Private ones, This is to say that with each increase in Private launches there is an increase in State Launches.The last point of interest is that Private company's are much more likely to collaborate with other, while Country's, at least in the Launch phase, do not collaborate ."
   ]
  },
  {
   "cell_type": "code",
   "execution_count": null,
   "metadata": {},
   "outputs": [],
   "source": []
  }
 ],
 "metadata": {
  "kernelspec": {
   "display_name": "Python 3",
   "language": "python",
   "name": "python3"
  },
  "language_info": {
   "codemirror_mode": {
    "name": "ipython",
    "version": 3
   },
   "file_extension": ".py",
   "mimetype": "text/x-python",
   "name": "python",
   "nbconvert_exporter": "python",
   "pygments_lexer": "ipython3",
   "version": "3.8.3"
  }
 },
 "nbformat": 4,
 "nbformat_minor": 4
}
